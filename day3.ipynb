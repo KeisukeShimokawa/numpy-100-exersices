{
 "cells": [
  {
   "cell_type": "markdown",
   "metadata": {},
   "source": [
    "- [exersice21](#anchor21) : check\n",
    "        Create a checkerboard 8x8 matrix using the tile function (★☆☆)\n",
    "- [exersice22](#anchor22) : OK\n",
    "        Normalize a 5x5 random matrix (★☆☆)\n",
    "- [exersice23](#anchor23) : check\n",
    "        Create a custom dtype that describes a color as four unsigned bytes (RGBA) (★☆☆)\n",
    "- [exersice24](#anchor24) : OK\n",
    "        Multiply a 5x3 matrix by a 3x2 matrix (real matrix product) (★☆☆)\n",
    "- [exersice25](#anchor25) : check\n",
    "        Given a 1D array, negate all elements which are between 3 and 8, in place. (★☆☆)\n",
    "- [exersice26](#anchor26) : check\n",
    "        What is the output of the following script? (★☆☆)\n",
    "- [exersice27](#anchor27) : check\n",
    "        Consider an integer vector Z, which of these expressions are legal? (★☆☆)\n",
    "- [exersice28](#anchor28) : check\n",
    "         What are the result of the following expressions?\n",
    "- [exersice29](#anchor29) : check\n",
    "        How to round away from zero a float array ? (★☆☆)\n",
    "- [exersice30](#anchor30) : check\n",
    "        How to find common values between two arrays? (★☆☆)"
   ]
  },
  {
   "cell_type": "code",
   "execution_count": 1,
   "metadata": {},
   "outputs": [],
   "source": [
    "import numpy as np"
   ]
  },
  {
   "cell_type": "markdown",
   "metadata": {},
   "source": [
    "<a id=\"anchor21\"></a>\n",
    "# <a href=\"#anchor21\">exersice 21</a>\n",
    "\n",
    "21. Create a checkerboard 8x8 matrix using the tile function (★☆☆)"
   ]
  },
  {
   "cell_type": "code",
   "execution_count": 2,
   "metadata": {},
   "outputs": [
    {
     "name": "stdout",
     "output_type": "stream",
     "text": [
      "[[1 0 1 0 1 0 1 0]\n",
      " [0 1 0 1 0 1 0 1]]\n"
     ]
    }
   ],
   "source": [
    "\"\"\"\n",
    "np.tile(A, reps) returns an array of A * reps\n",
    "\n",
    "np.tile([0, 1, 2], reps=3)\n",
    ">> [0,1,2, 0,1,2, 0,1,2]\n",
    "\"\"\"\n",
    "\n",
    "a = np.tile([[1, 0], [0, 1]], reps=4)\n",
    "print(a)"
   ]
  },
  {
   "cell_type": "code",
   "execution_count": 3,
   "metadata": {},
   "outputs": [
    {
     "name": "stdout",
     "output_type": "stream",
     "text": [
      "(4, 2, 8)\n"
     ]
    }
   ],
   "source": [
    "a = np.array([a, a, a, a])\n",
    "print(a.shape)"
   ]
  },
  {
   "cell_type": "markdown",
   "metadata": {},
   "source": [
    "### 模範"
   ]
  },
  {
   "cell_type": "code",
   "execution_count": 4,
   "metadata": {},
   "outputs": [
    {
     "name": "stdout",
     "output_type": "stream",
     "text": [
      "[[0 1 0 1 0 1 0 1]\n",
      " [1 0 1 0 1 0 1 0]\n",
      " [0 1 0 1 0 1 0 1]\n",
      " [1 0 1 0 1 0 1 0]\n",
      " [0 1 0 1 0 1 0 1]\n",
      " [1 0 1 0 1 0 1 0]\n",
      " [0 1 0 1 0 1 0 1]\n",
      " [1 0 1 0 1 0 1 0]]\n"
     ]
    }
   ],
   "source": [
    "Z = np.tile(np.array([[0, 1], [1, 0]]), reps=(4, 4))\n",
    "print(Z)"
   ]
  },
  {
   "cell_type": "markdown",
   "metadata": {},
   "source": [
    "repsに整数だけではなく、配列も指定できることに注意。\n",
    "\n",
    "公式ドキュメントの、引数の定義を要参照"
   ]
  },
  {
   "cell_type": "code",
   "execution_count": 5,
   "metadata": {},
   "outputs": [
    {
     "name": "stdout",
     "output_type": "stream",
     "text": [
      " tile(A, reps)\n",
      "\n",
      "Construct an array by repeating A the number of times given by reps.\n",
      "\n",
      "If `reps` has length ``d``, the result will have dimension of\n",
      "``max(d, A.ndim)``.\n",
      "\n",
      "If ``A.ndim < d``, `A` is promoted to be d-dimensional by prepending new\n",
      "axes. So a shape (3,) array is promoted to (1, 3) for 2-D replication,\n",
      "or shape (1, 1, 3) for 3-D replication. If this is not the desired\n",
      "behavior, promote `A` to d-dimensions manually before calling this\n",
      "function.\n",
      "\n",
      "If ``A.ndim > d``, `reps` is promoted to `A`.ndim by pre-pending 1's to it.\n",
      "Thus for an `A` of shape (2, 3, 4, 5), a `reps` of (2, 2) is treated as\n",
      "(1, 1, 2, 2).\n",
      "\n",
      "Note : Although tile may be used for broadcasting, it is strongly\n",
      "recommended to use numpy's broadcasting operations and functions.\n",
      "\n",
      "Parameters\n",
      "----------\n",
      "A : array_like\n",
      "    The input array.\n",
      "reps : array_like\n",
      "    The number of repetitions of `A` along each axis.\n",
      "\n",
      "Returns\n",
      "-------\n",
      "c : ndarray\n",
      "    The tiled output array.\n",
      "\n",
      "See Also\n",
      "--------\n",
      "repeat : Repeat elements of an array.\n",
      "broadcast_to : Broadcast an array to a new shape\n",
      "\n",
      "Examples\n",
      "--------\n",
      ">>> a = np.array([0, 1, 2])\n",
      ">>> np.tile(a, 2)\n",
      "array([0, 1, 2, 0, 1, 2])\n",
      ">>> np.tile(a, (2, 2))\n",
      "array([[0, 1, 2, 0, 1, 2],\n",
      "       [0, 1, 2, 0, 1, 2]])\n",
      ">>> np.tile(a, (2, 1, 2))\n",
      "array([[[0, 1, 2, 0, 1, 2]],\n",
      "       [[0, 1, 2, 0, 1, 2]]])\n",
      "\n",
      ">>> b = np.array([[1, 2], [3, 4]])\n",
      ">>> np.tile(b, 2)\n",
      "array([[1, 2, 1, 2],\n",
      "       [3, 4, 3, 4]])\n",
      ">>> np.tile(b, (2, 1))\n",
      "array([[1, 2],\n",
      "       [3, 4],\n",
      "       [1, 2],\n",
      "       [3, 4]])\n",
      "\n",
      ">>> c = np.array([1,2,3,4])\n",
      ">>> np.tile(c,(4,1))\n",
      "array([[1, 2, 3, 4],\n",
      "       [1, 2, 3, 4],\n",
      "       [1, 2, 3, 4],\n",
      "       [1, 2, 3, 4]])\n"
     ]
    }
   ],
   "source": [
    "!python -c \"import numpy; numpy.info(numpy.tile)\""
   ]
  },
  {
   "cell_type": "markdown",
   "metadata": {},
   "source": [
    "<a id=\"anchor22\"></a>\n",
    "# <a href=\"#anchor22\">exersice 22</a>\n",
    "\n",
    "22. Normalize a 5x5 random matrix (★☆☆)\n",
    "\n",
    "※ 値を `[0, 1]` の範囲内にまとめる"
   ]
  },
  {
   "cell_type": "code",
   "execution_count": 6,
   "metadata": {},
   "outputs": [
    {
     "name": "stdout",
     "output_type": "stream",
     "text": [
      "[[ 0.78361138  0.5120811   0.71621848  0.82807249  1.        ]\n",
      " [ 0.19457924  0.09505236  0.25335177  0.18652206  0.85315084]\n",
      " [ 0.1575176   0.62689327  0.0497441   0.28506825  0.77326032]\n",
      " [ 0.17616359  0.26178485  0.          0.98647066  0.07975579]\n",
      " [ 0.68952388  0.85907683  0.65664589  0.599395    0.5014065 ]]\n"
     ]
    }
   ],
   "source": [
    "a = np.random.random((5, 5))\n",
    "amin, amax = a.min(), a.max()\n",
    "a = (a - amin) / (amax - amin)\n",
    "print(a)"
   ]
  },
  {
   "cell_type": "markdown",
   "metadata": {},
   "source": [
    "<a id=\"anchor23\"></a>\n",
    "# <a href=\"#anchor23\">exersice 23</a>\n",
    "\n",
    "23. Create a custom dtype that describes a color as four unsigned bytes (RGBA) (★☆☆)"
   ]
  },
  {
   "cell_type": "markdown",
   "metadata": {},
   "source": [
    "- `dtype`を指定して配列生成\n",
    "- 変化しない4バイト（`[Red, Green, Blue, Alpha]`）"
   ]
  },
  {
   "cell_type": "code",
   "execution_count": 7,
   "metadata": {},
   "outputs": [
    {
     "name": "stdout",
     "output_type": "stream",
     "text": [
      "[255 255 255   0]\n"
     ]
    }
   ],
   "source": [
    "a = np.array([255, 255, 255, 0.5], dtype=np.uint8)\n",
    "print(a)"
   ]
  },
  {
   "cell_type": "markdown",
   "metadata": {},
   "source": [
    "### 模範"
   ]
  },
  {
   "cell_type": "code",
   "execution_count": 8,
   "metadata": {},
   "outputs": [
    {
     "name": "stdout",
     "output_type": "stream",
     "text": [
      "[('r', 'u1'), ('g', 'u1'), ('b', 'u1'), ('a', 'u1')]\n"
     ]
    }
   ],
   "source": [
    "color = np.dtype([(\"r\", np.ubyte, 1),\n",
    "                  (\"g\", np.ubyte, 1),\n",
    "                  (\"b\", np.ubyte, 1),\n",
    "                  (\"a\", np.ubyte, 1)])\n",
    "print(color)"
   ]
  },
  {
   "cell_type": "code",
   "execution_count": 9,
   "metadata": {},
   "outputs": [
    {
     "name": "stdout",
     "output_type": "stream",
     "text": [
      " dtype()\n",
      "\n",
      "dtype(obj, align=False, copy=False)\n",
      "\n",
      "Create a data type object.\n",
      "\n",
      "A numpy array is homogeneous, and contains elements described by a\n",
      "dtype object. A dtype object can be constructed from different\n",
      "combinations of fundamental numeric types.\n",
      "\n",
      "Parameters\n",
      "----------\n",
      "obj\n",
      "    Object to be converted to a data type object.\n",
      "align : bool, optional\n",
      "    Add padding to the fields to match what a C compiler would output\n",
      "    for a similar C-struct. Can be ``True`` only if `obj` is a dictionary\n",
      "    or a comma-separated string. If a struct dtype is being created,\n",
      "    this also sets a sticky alignment flag ``isalignedstruct``.\n",
      "copy : bool, optional\n",
      "    Make a new copy of the data-type object. If ``False``, the result\n",
      "    may just be a reference to a built-in data-type object.\n",
      "\n",
      "See also\n",
      "--------\n",
      "result_type\n",
      "\n",
      "Examples\n",
      "--------\n",
      "Using array-scalar type:\n",
      "\n",
      ">>> np.dtype(np.int16)\n",
      "dtype('int16')\n",
      "\n",
      "Structured type, one field name 'f1', containing int16:\n",
      "\n",
      ">>> np.dtype([('f1', np.int16)])\n",
      "dtype([('f1', '<i2')])\n",
      "\n",
      "Structured type, one field named 'f1', in itself containing a structured\n",
      "type with one field:\n",
      "\n",
      ">>> np.dtype([('f1', [('f1', np.int16)])])\n",
      "dtype([('f1', [('f1', '<i2')])])\n",
      "\n",
      "Structured type, two fields: the first field contains an unsigned int, the\n",
      "second an int32:\n",
      "\n",
      ">>> np.dtype([('f1', np.uint), ('f2', np.int32)])\n",
      "dtype([('f1', '<u4'), ('f2', '<i4')])\n",
      "\n",
      "Using array-protocol type strings:\n",
      "\n",
      ">>> np.dtype([('a','f8'),('b','S10')])\n",
      "dtype([('a', '<f8'), ('b', '|S10')])\n",
      "\n",
      "Using comma-separated field formats.  The shape is (2,3):\n",
      "\n",
      ">>> np.dtype(\"i4, (2,3)f8\")\n",
      "dtype([('f0', '<i4'), ('f1', '<f8', (2, 3))])\n",
      "\n",
      "Using tuples.  ``int`` is a fixed type, 3 the field's shape.  ``void``\n",
      "is a flexible type, here of size 10:\n",
      "\n",
      ">>> np.dtype([('hello',(np.int,3)),('world',np.void,10)])\n",
      "dtype([('hello', '<i4', 3), ('world', '|V10')])\n",
      "\n",
      "Subdivide ``int16`` into 2 ``int8``'s, called x and y.  0 and 1 are\n",
      "the offsets in bytes:\n",
      "\n",
      ">>> np.dtype((np.int16, {'x':(np.int8,0), 'y':(np.int8,1)}))\n",
      "dtype(('<i2', [('x', '|i1'), ('y', '|i1')]))\n",
      "\n",
      "Using dictionaries.  Two fields named 'gender' and 'age':\n",
      "\n",
      ">>> np.dtype({'names':['gender','age'], 'formats':['S1',np.uint8]})\n",
      "dtype([('gender', '|S1'), ('age', '|u1')])\n",
      "\n",
      "Offsets in bytes, here 0 and 25:\n",
      "\n",
      ">>> np.dtype({'surname':('S25',0),'age':(np.uint8,25)})\n",
      "dtype([('surname', '|S25'), ('age', '|u1')])\n",
      "\n",
      "\n",
      "Methods:\n",
      "\n",
      "  newbyteorder  --  newbyteorder(new_order='S')\n"
     ]
    }
   ],
   "source": [
    "!python -c \"import numpy; numpy.info(numpy.dtype)\""
   ]
  },
  {
   "cell_type": "markdown",
   "metadata": {},
   "source": [
    "Numpyでは、 `uint8` と `ubyte` は同じ"
   ]
  },
  {
   "cell_type": "code",
   "execution_count": 10,
   "metadata": {},
   "outputs": [
    {
     "name": "stdout",
     "output_type": "stream",
     "text": [
      " uint8()\n",
      "\n",
      "Base class for numpy scalar types.\n",
      "\n",
      "Class from which most (all?) numpy scalar types are derived.  For\n",
      "consistency, exposes the same API as `ndarray`, despite many\n",
      "consequent attributes being either \"get-only,\" or completely irrelevant.\n",
      "This is the class from which it is strongly suggested users should derive\n",
      "custom scalar types.\n",
      "\n",
      "\n",
      "Methods:\n",
      "\n",
      "  all  --  Not implemented (virtual attribute)\n",
      "  any  --  Not implemented (virtual attribute)\n",
      "  argmax  --  Not implemented (virtual attribute)\n",
      "  argmin  --  Not implemented (virtual attribute)\n",
      "  argsort  --  Not implemented (virtual attribute)\n",
      "  astype  --  Not implemented (virtual attribute)\n",
      "  byteswap  --  Not implemented (virtual attribute)\n",
      "  choose  --  Not implemented (virtual attribute)\n",
      "  clip  --  Not implemented (virtual attribute)\n",
      "  compress  --  Not implemented (virtual attribute)\n",
      "  conj  --  None\n",
      "  conjugate  --  Not implemented (virtual attribute)\n",
      "  copy  --  Not implemented (virtual attribute)\n",
      "  cumprod  --  Not implemented (virtual attribute)\n",
      "  cumsum  --  Not implemented (virtual attribute)\n",
      "  diagonal  --  Not implemented (virtual attribute)\n",
      "  dump  --  Not implemented (virtual attribute)\n",
      "  dumps  --  Not implemented (virtual attribute)\n",
      "  fill  --  Not implemented (virtual attribute)\n",
      "  flatten  --  Not implemented (virtual attribute)\n",
      "  getfield  --  Not implemented (virtual attribute)\n",
      "  item  --  Not implemented (virtual attribute)\n",
      "  itemset  --  Not implemented (virtual attribute)\n",
      "  max  --  Not implemented (virtual attribute)\n",
      "  mean  --  Not implemented (virtual attribute)\n",
      "  min  --  Not implemented (virtual attribute)\n",
      "  newbyteorder  --  newbyteorder(new_order='S')\n",
      "  nonzero  --  Not implemented (virtual attribute)\n",
      "  prod  --  Not implemented (virtual attribute)\n",
      "  ptp  --  Not implemented (virtual attribute)\n",
      "  put  --  Not implemented (virtual attribute)\n",
      "  ravel  --  Not implemented (virtual attribute)\n",
      "  repeat  --  Not implemented (virtual attribute)\n",
      "  reshape  --  Not implemented (virtual attribute)\n",
      "  resize  --  Not implemented (virtual attribute)\n",
      "  round  --  Not implemented (virtual attribute)\n",
      "  searchsorted  --  Not implemented (virtual attribute)\n",
      "  setfield  --  Not implemented (virtual attribute)\n",
      "  setflags  --  Not implemented (virtual attribute)\n",
      "  sort  --  Not implemented (virtual attribute)\n",
      "  squeeze  --  Not implemented (virtual attribute)\n",
      "  std  --  Not implemented (virtual attribute)\n",
      "  sum  --  Not implemented (virtual attribute)\n",
      "  swapaxes  --  Not implemented (virtual attribute)\n",
      "  take  --  Not implemented (virtual attribute)\n",
      "  tobytes  --  None\n",
      "  tofile  --  Not implemented (virtual attribute)\n",
      "  tolist  --  Not implemented (virtual attribute)\n",
      "  tostring  --  Not implemented (virtual attribute)\n",
      "  trace  --  Not implemented (virtual attribute)\n",
      "  transpose  --  Not implemented (virtual attribute)\n",
      "  var  --  Not implemented (virtual attribute)\n",
      "  view  --  Not implemented (virtual attribute)\n"
     ]
    }
   ],
   "source": [
    "!python -c \"import numpy; numpy.info(numpy.ubyte)\""
   ]
  },
  {
   "cell_type": "markdown",
   "metadata": {},
   "source": [
    "<a id=\"anchor24\"></a>\n",
    "# <a href=\"#anchor24\">exersice 24</a>\n",
    "\n",
    "24. Multiply a 5x3 matrix by a 3x2 matrix (real matrix product) (★☆☆)"
   ]
  },
  {
   "cell_type": "code",
   "execution_count": 11,
   "metadata": {},
   "outputs": [
    {
     "name": "stdout",
     "output_type": "stream",
     "text": [
      "(5, 3)\n",
      "(3, 2)\n"
     ]
    }
   ],
   "source": [
    "a = np.ones((5, 3))\n",
    "print(a.shape)\n",
    "b = np.random.rand(3, 2)\n",
    "print(b.shape)"
   ]
  },
  {
   "cell_type": "code",
   "execution_count": 12,
   "metadata": {},
   "outputs": [
    {
     "name": "stdout",
     "output_type": "stream",
     "text": [
      "(5, 2)\n",
      "[[ 1.91258123  1.37311343]\n",
      " [ 1.91258123  1.37311343]\n",
      " [ 1.91258123  1.37311343]\n",
      " [ 1.91258123  1.37311343]\n",
      " [ 1.91258123  1.37311343]]\n"
     ]
    }
   ],
   "source": [
    "ab = np.dot(a, b)\n",
    "print(ab.shape)\n",
    "print(ab)"
   ]
  },
  {
   "cell_type": "markdown",
   "metadata": {},
   "source": [
    "### 別解\n",
    "\n",
    "Python 3.5 以上のバージョンで以下のような記法が導入されたらしい。"
   ]
  },
  {
   "cell_type": "code",
   "execution_count": 13,
   "metadata": {},
   "outputs": [
    {
     "name": "stdout",
     "output_type": "stream",
     "text": [
      "(5, 2)\n",
      "[[ 1.68927779  1.31379757]\n",
      " [ 1.68927779  1.31379757]\n",
      " [ 1.68927779  1.31379757]\n",
      " [ 1.68927779  1.31379757]\n",
      " [ 1.68927779  1.31379757]]\n"
     ]
    }
   ],
   "source": [
    "ab = np.ones((5, 3)) @ np.random.rand(3, 2)\n",
    "print(ab.shape)\n",
    "print(ab)"
   ]
  },
  {
   "cell_type": "markdown",
   "metadata": {},
   "source": [
    "<a id=\"anchor25\"></a>\n",
    "# <a href=\"#anchor25\">exersice 25</a>\n",
    "\n",
    "25. Given a 1D array, negate all elements which are between 3 and 8, in place. (★☆☆)\n",
    "\n",
    "要は符号を反転させてくださいという意味です。"
   ]
  },
  {
   "cell_type": "code",
   "execution_count": 14,
   "metadata": {},
   "outputs": [
    {
     "name": "stdout",
     "output_type": "stream",
     "text": [
      "[ 0  1  2  3  4  5  6  7  8  9 10]\n"
     ]
    }
   ],
   "source": [
    "a = np.arange(11)\n",
    "print(a)"
   ]
  },
  {
   "cell_type": "code",
   "execution_count": 15,
   "metadata": {},
   "outputs": [
    {
     "name": "stdout",
     "output_type": "stream",
     "text": [
      "[ 0  1  2 -3 -4 -5 -6 -7 -8  9 10]\n"
     ]
    }
   ],
   "source": [
    "a[(a >= 3) & (a <= 8)] *= -1\n",
    "print(a)"
   ]
  },
  {
   "cell_type": "markdown",
   "metadata": {},
   "source": [
    "<a id=\"anchor26\"></a>\n",
    "# <a href=\"#anchor26\">exersice 26</a>\n",
    "\n",
    "26. What is the output of the following script? (★☆☆)"
   ]
  },
  {
   "cell_type": "markdown",
   "metadata": {},
   "source": [
    "```python\n",
    "# Author: Jake VanderPlas\n",
    "\n",
    "print(sum(range(5),-1))\n",
    "from numpy import *\n",
    "print(sum(range(5),-1))\n",
    "```"
   ]
  },
  {
   "cell_type": "code",
   "execution_count": 16,
   "metadata": {},
   "outputs": [
    {
     "name": "stdout",
     "output_type": "stream",
     "text": [
      "9\n"
     ]
    }
   ],
   "source": [
    "print(sum(range(5), -1))"
   ]
  },
  {
   "cell_type": "code",
   "execution_count": 17,
   "metadata": {},
   "outputs": [
    {
     "name": "stdout",
     "output_type": "stream",
     "text": [
      "10\n"
     ]
    }
   ],
   "source": [
    "from numpy import *\n",
    "\n",
    "print(sum(range(5), -1))"
   ]
  },
  {
   "cell_type": "code",
   "execution_count": 18,
   "metadata": {},
   "outputs": [
    {
     "name": "stdout",
     "output_type": "stream",
     "text": [
      "[[0 1 2 3 4]\n",
      " [5 6 7 8 9]]\n",
      "45\n"
     ]
    }
   ],
   "source": [
    "a = np.arange(10).reshape((2, 5))\n",
    "print(a)\n",
    "print(sum(a))"
   ]
  },
  {
   "cell_type": "code",
   "execution_count": 19,
   "metadata": {},
   "outputs": [
    {
     "name": "stdout",
     "output_type": "stream",
     "text": [
      "[10 35]\n"
     ]
    }
   ],
   "source": [
    "print(sum(a, -1))"
   ]
  },
  {
   "cell_type": "markdown",
   "metadata": {},
   "source": [
    "**組み込み関数sum()**\n",
    "\n",
    "組み込み関数の `sum()` では2番目の引数にどこから数え上げるのかを指定できます。\n",
    "\n",
    "[公式ドキュメント](https://docs.python.jp/3/library/functions.html#sum)を参照"
   ]
  },
  {
   "cell_type": "markdown",
   "metadata": {},
   "source": [
    "**numpy.sum()**\n",
    "\n",
    "`-1` を指定することで最大次元数方向での演算を行います。\n",
    "\n",
    "この場合は2次元行列なので、列方向の和を計算しています。"
   ]
  },
  {
   "cell_type": "markdown",
   "metadata": {},
   "source": [
    "<a id=\"anchor27\"></a>\n",
    "# <a href=\"#anchor27\">exersice 27</a>\n",
    "\n",
    "27. Consider an integer vector Z, which of these expressions are legal? (★☆☆)"
   ]
  },
  {
   "cell_type": "markdown",
   "metadata": {},
   "source": [
    "```python\n",
    "Z**Z\n",
    "2 << Z >> 2\n",
    "Z <- Z\n",
    "1j*Z\n",
    "Z/1/1\n",
    "Z<Z>Z\n",
    "```"
   ]
  },
  {
   "cell_type": "code",
   "execution_count": 20,
   "metadata": {},
   "outputs": [
    {
     "data": {
      "text/plain": [
       "array([        1,         4,        27,       256,      3125,     46656,\n",
       "          823543,  16777216, 387420489], dtype=int32)"
      ]
     },
     "execution_count": 20,
     "metadata": {},
     "output_type": "execute_result"
    }
   ],
   "source": [
    "a = np.array([1, 2, 3, 4, 5, 6, 7, 8, 9])\n",
    "\n",
    "# 要素ごとの累乗を行う。\n",
    "a ** a"
   ]
  },
  {
   "cell_type": "code",
   "execution_count": 21,
   "metadata": {},
   "outputs": [
    {
     "data": {
      "text/plain": [
       "array([   4,    8,   16,   32,   64,  128,  256,  512, 1024], dtype=int32)"
      ]
     },
     "execution_count": 21,
     "metadata": {},
     "output_type": "execute_result"
    }
   ],
   "source": [
    "a = np.array([1, 2, 3, 4, 5, 6, 7, 8, 9])\n",
    "\n",
    "# << や >> はビットシフトの演算子\n",
    "# x = x * 2^a or x = x / 2^a を行う\n",
    "2 << a"
   ]
  },
  {
   "cell_type": "code",
   "execution_count": 22,
   "metadata": {},
   "outputs": [
    {
     "data": {
      "text/plain": [
       "array([ 4,  8, 12, 16, 20, 24, 28, 32, 36], dtype=int32)"
      ]
     },
     "execution_count": 22,
     "metadata": {},
     "output_type": "execute_result"
    }
   ],
   "source": [
    "a = np.array([1, 2, 3, 4, 5, 6, 7, 8, 9])\n",
    "\n",
    "a << 2"
   ]
  },
  {
   "cell_type": "code",
   "execution_count": 23,
   "metadata": {},
   "outputs": [
    {
     "data": {
      "text/plain": [
       "array([  1,   2,   4,   8,  16,  32,  64, 128, 256], dtype=int32)"
      ]
     },
     "execution_count": 23,
     "metadata": {},
     "output_type": "execute_result"
    }
   ],
   "source": [
    "2 << a >> 2"
   ]
  },
  {
   "cell_type": "code",
   "execution_count": 24,
   "metadata": {},
   "outputs": [
    {
     "data": {
      "text/plain": [
       "array([False, False, False, False, False, False, False, False, False], dtype=bool)"
      ]
     },
     "execution_count": 24,
     "metadata": {},
     "output_type": "execute_result"
    }
   ],
   "source": [
    "a <- a # this is the same exsample of a < (-a)"
   ]
  },
  {
   "cell_type": "code",
   "execution_count": 25,
   "metadata": {},
   "outputs": [
    {
     "data": {
      "text/plain": [
       "array([ 0.+1.j,  0.+2.j,  0.+3.j,  0.+4.j,  0.+5.j,  0.+6.j,  0.+7.j,\n",
       "        0.+8.j,  0.+9.j])"
      ]
     },
     "execution_count": 25,
     "metadata": {},
     "output_type": "execute_result"
    }
   ],
   "source": [
    "1j * a # 1j replesent complex part"
   ]
  },
  {
   "cell_type": "code",
   "execution_count": 26,
   "metadata": {},
   "outputs": [
    {
     "data": {
      "text/plain": [
       "array([ 1.,  2.,  3.,  4.,  5.,  6.,  7.,  8.,  9.])"
      ]
     },
     "execution_count": 26,
     "metadata": {},
     "output_type": "execute_result"
    }
   ],
   "source": [
    "a/1/1 # change integer type to float type (by division)"
   ]
  },
  {
   "cell_type": "code",
   "execution_count": 27,
   "metadata": {},
   "outputs": [
    {
     "ename": "ValueError",
     "evalue": "The truth value of an array with more than one element is ambiguous. Use a.any() or a.all()",
     "output_type": "error",
     "traceback": [
      "\u001b[1;31m---------------------------------------------------------------------------\u001b[0m",
      "\u001b[1;31mValueError\u001b[0m                                Traceback (most recent call last)",
      "\u001b[1;32m<ipython-input-27-1c53e4227509>\u001b[0m in \u001b[0;36m<module>\u001b[1;34m()\u001b[0m\n\u001b[1;32m----> 1\u001b[1;33m \u001b[0ma\u001b[0m \u001b[1;33m<\u001b[0m \u001b[0ma\u001b[0m \u001b[1;33m>\u001b[0m \u001b[0ma\u001b[0m\u001b[1;33m\u001b[0m\u001b[0m\n\u001b[0m",
      "\u001b[1;31mValueError\u001b[0m: The truth value of an array with more than one element is ambiguous. Use a.any() or a.all()"
     ]
    }
   ],
   "source": [
    "a < a > a"
   ]
  },
  {
   "cell_type": "markdown",
   "metadata": {},
   "source": [
    "<a id=\"anchor28\"></a>\n",
    "# <a href=\"#anchor28\">exersice 28</a>\n",
    "\n",
    "28. What are the result of the following expressions?"
   ]
  },
  {
   "cell_type": "markdown",
   "metadata": {},
   "source": [
    "```python\n",
    "print(np.array(0) / np.array(0))\n",
    "print(np.array(0) // np.array(0))\n",
    "print(np.array([np.nan]).astype(int).astype(float))\n",
    "```"
   ]
  },
  {
   "cell_type": "code",
   "execution_count": 28,
   "metadata": {},
   "outputs": [
    {
     "name": "stdout",
     "output_type": "stream",
     "text": [
      "0\n",
      "<class 'numpy.ndarray'>\n"
     ]
    }
   ],
   "source": [
    "a = np.array(0)\n",
    "print(a)\n",
    "print(type(a))"
   ]
  },
  {
   "cell_type": "code",
   "execution_count": 29,
   "metadata": {},
   "outputs": [
    {
     "name": "stdout",
     "output_type": "stream",
     "text": [
      "nan\n"
     ]
    },
    {
     "name": "stderr",
     "output_type": "stream",
     "text": [
      "C:\\Users\\s-k85\\Anaconda3\\lib\\site-packages\\ipykernel_launcher.py:1: RuntimeWarning: invalid value encountered in true_divide\n",
      "  \"\"\"Entry point for launching an IPython kernel.\n"
     ]
    }
   ],
   "source": [
    "print(np.array(0) / np.array(0))"
   ]
  },
  {
   "cell_type": "code",
   "execution_count": 30,
   "metadata": {},
   "outputs": [
    {
     "name": "stdout",
     "output_type": "stream",
     "text": [
      "0\n"
     ]
    },
    {
     "name": "stderr",
     "output_type": "stream",
     "text": [
      "C:\\Users\\s-k85\\Anaconda3\\lib\\site-packages\\ipykernel_launcher.py:1: RuntimeWarning: divide by zero encountered in floor_divide\n",
      "  \"\"\"Entry point for launching an IPython kernel.\n"
     ]
    }
   ],
   "source": [
    "print(np.array(0) // np.array(0))"
   ]
  },
  {
   "cell_type": "code",
   "execution_count": 31,
   "metadata": {},
   "outputs": [
    {
     "name": "stdout",
     "output_type": "stream",
     "text": [
      "nan\n",
      "<class 'numpy.ndarray'>\n"
     ]
    }
   ],
   "source": [
    "a = np.array(np.nan)\n",
    "print(a)\n",
    "print(type(a))"
   ]
  },
  {
   "cell_type": "code",
   "execution_count": 32,
   "metadata": {},
   "outputs": [
    {
     "name": "stdout",
     "output_type": "stream",
     "text": [
      "-2147483648\n"
     ]
    }
   ],
   "source": [
    "print(a.astype('int'))"
   ]
  },
  {
   "cell_type": "code",
   "execution_count": 33,
   "metadata": {},
   "outputs": [
    {
     "name": "stdout",
     "output_type": "stream",
     "text": [
      "[ -2.14748365e+09]\n"
     ]
    }
   ],
   "source": [
    "print(np.array([np.nan]).astype(int).astype(float))"
   ]
  },
  {
   "cell_type": "markdown",
   "metadata": {},
   "source": [
    "<a id=\"anchor29\"></a>\n",
    "# <a href=\"#anchor29\">exersice 29</a>\n",
    "\n",
    "29. How to round away from zero a float array ? (★☆☆)"
   ]
  },
  {
   "cell_type": "code",
   "execution_count": 34,
   "metadata": {},
   "outputs": [
    {
     "name": "stdout",
     "output_type": "stream",
     "text": [
      "[ 8.13792987  9.18346068  1.66228975  6.40071079  0.23687039 -0.81206184\n",
      "  9.27714033  0.79803461 -0.78602341 -9.43304721]\n"
     ]
    }
   ],
   "source": [
    "a = np.random.uniform(low=-10, high=10, size=10)\n",
    "print(a)"
   ]
  },
  {
   "cell_type": "code",
   "execution_count": 35,
   "metadata": {},
   "outputs": [
    {
     "data": {
      "text/plain": [
       "array([ 8.,  9.,  2.,  6.,  0., -1.,  9.,  1., -1., -9.])"
      ]
     },
     "execution_count": 35,
     "metadata": {},
     "output_type": "execute_result"
    }
   ],
   "source": [
    "np.round(a)"
   ]
  },
  {
   "cell_type": "markdown",
   "metadata": {},
   "source": [
    "`round`関数はあくまで四捨五入なので、0の方向へ丸め込む必要がある？"
   ]
  },
  {
   "cell_type": "code",
   "execution_count": 36,
   "metadata": {},
   "outputs": [
    {
     "data": {
      "text/plain": [
       "array([  9.,  10.,   2.,   7.,   1.,  -0.,  10.,   1.,  -0.,  -9.])"
      ]
     },
     "execution_count": 36,
     "metadata": {},
     "output_type": "execute_result"
    }
   ],
   "source": [
    "np.ceil(a)"
   ]
  },
  {
   "cell_type": "markdown",
   "metadata": {},
   "source": [
    "`ceil`関数は、正の無限大方向への丸め込みです。"
   ]
  },
  {
   "cell_type": "code",
   "execution_count": 37,
   "metadata": {},
   "outputs": [
    {
     "name": "stdout",
     "output_type": "stream",
     "text": [
      "[  9.  10.   2.   7.   1.  -1.  10.   1.  -1. -10.]\n"
     ]
    }
   ],
   "source": [
    "# Author: Charles R Harris\n",
    "print(np.copysign(np.ceil(np.abs(a)), a))"
   ]
  },
  {
   "cell_type": "markdown",
   "metadata": {},
   "source": [
    "答えが間違っているのか、問題のとらえ方が間違っている。"
   ]
  },
  {
   "cell_type": "markdown",
   "metadata": {},
   "source": [
    "<a id=\"anchor30\"></a>\n",
    "# <a href=\"#anchor30\">exersice 30</a>\n",
    "\n",
    "30. How to find common values between two arrays? (★☆☆)"
   ]
  },
  {
   "cell_type": "code",
   "execution_count": 38,
   "metadata": {},
   "outputs": [],
   "source": [
    "a = np.array([1,2,3,4,5,6,7,8])\n",
    "b = np.array([5,6,7,8,9,10,11])"
   ]
  },
  {
   "cell_type": "code",
   "execution_count": 39,
   "metadata": {},
   "outputs": [
    {
     "data": {
      "text/plain": [
       "array([5, 6, 7, 8])"
      ]
     },
     "execution_count": 39,
     "metadata": {},
     "output_type": "execute_result"
    }
   ],
   "source": [
    "np.intersect1d(a, b)"
   ]
  },
  {
   "cell_type": "code",
   "execution_count": 40,
   "metadata": {},
   "outputs": [
    {
     "name": "stdout",
     "output_type": "stream",
     "text": [
      " intersect1d(ar1, ar2, assume_unique=False)\n",
      "\n",
      "Find the intersection of two arrays.\n",
      "\n",
      "Return the sorted, unique values that are in both of the input arrays.\n",
      "\n",
      "Parameters\n",
      "----------\n",
      "ar1, ar2 : array_like\n",
      "    Input arrays.\n",
      "assume_unique : bool\n",
      "    If True, the input arrays are both assumed to be unique, which\n",
      "    can speed up the calculation.  Default is False.\n",
      "\n",
      "Returns\n",
      "-------\n",
      "intersect1d : ndarray\n",
      "    Sorted 1D array of common and unique elements.\n",
      "\n",
      "See Also\n",
      "--------\n",
      "numpy.lib.arraysetops : Module with a number of other functions for\n",
      "                        performing set operations on arrays.\n",
      "\n",
      "Examples\n",
      "--------\n",
      ">>> np.intersect1d([1, 3, 4, 3], [3, 1, 2, 1])\n",
      "array([1, 3])\n",
      "\n",
      "To intersect more than two arrays, use functools.reduce:\n",
      "\n",
      ">>> from functools import reduce\n",
      ">>> reduce(np.intersect1d, ([1, 3, 4, 3], [3, 1, 2, 1], [6, 3, 4, 2]))\n",
      "array([3])\n"
     ]
    }
   ],
   "source": [
    "!python -c \"import numpy; numpy.info(numpy.intersect1d)\""
   ]
  },
  {
   "cell_type": "code",
   "execution_count": null,
   "metadata": {},
   "outputs": [],
   "source": []
  }
 ],
 "metadata": {
  "kernelspec": {
   "display_name": "Python 3",
   "language": "python",
   "name": "python3"
  },
  "language_info": {
   "codemirror_mode": {
    "name": "ipython",
    "version": 3
   },
   "file_extension": ".py",
   "mimetype": "text/x-python",
   "name": "python",
   "nbconvert_exporter": "python",
   "pygments_lexer": "ipython3",
   "version": "3.6.5"
  }
 },
 "nbformat": 4,
 "nbformat_minor": 2
}
