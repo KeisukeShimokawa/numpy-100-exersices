{
 "cells": [
  {
   "cell_type": "markdown",
   "metadata": {},
   "source": [
    "- [exersice31](#anchor31) : check\n",
    "    - How to ignore all numpy warnings (not recommended)? (★☆☆)\n",
    "- [exersice32](#anchor32) : check\n",
    "    - Is the following expressions true? (★☆☆)\n",
    "- [exersice33](#anchor33) : check\n",
    "    - How to get the dates of yesterday, today and tomorrow? (★☆☆)\n",
    "- [exersice34](#anchor34) : check\n",
    "    - How to get all the dates corresponding to the month of July 2016? (★★☆)\n",
    "- [exersice35](#anchor35) : check\n",
    "    - How to compute ((A+B)*(-A/2)) in place (without copy)? (★★☆)\n",
    "- [exersice36](#anchor36) : check\n",
    "    - Extract the integer part of a random array using 5 different methods (★★☆)\n",
    "- [exersice37](#anchor37) : check\n",
    "    - Create a 5x5 matrix with row values ranging from 0 to 4 (★★☆)\n",
    "- [exersice38](#anchor38) : check\n",
    "    - Consider a generator function that generates 10 integers and use it to build an array (★☆☆)\n",
    "- [exersice39](#anchor39) : check\n",
    "    - Create a vector of size 10 with values ranging from 0 to 1, both excluded (★★☆)\n",
    "- [exersice40](#anchor40) : check\n",
    "    - Create a random vector of size 10 and sort it (★★☆)"
   ]
  },
  {
   "cell_type": "code",
   "execution_count": 2,
   "metadata": {},
   "outputs": [],
   "source": [
    "import numpy as np"
   ]
  },
  {
   "cell_type": "markdown",
   "metadata": {},
   "source": [
    "<a id=\"anchor31\"></a>\n",
    "# <a href=\"#anchor31\">exersice 31</a>\n",
    "\n",
    "31. How to ignore all numpy warnings (not recommended)? (★☆☆)"
   ]
  },
  {
   "cell_type": "code",
   "execution_count": 4,
   "metadata": {},
   "outputs": [],
   "source": [
    "# Suicide mode on\n",
    "defaults = np.seterr(all=\"ignore\")\n",
    "Z = np.ones(1) / 0\n",
    "\n",
    "# Back to sanity\n",
    "_ = np.seterr(**defaults)"
   ]
  },
  {
   "cell_type": "code",
   "execution_count": 6,
   "metadata": {},
   "outputs": [],
   "source": [
    "with np.errstate(divide='ignore'):\n",
    "    Z = np.ones(1) / 0"
   ]
  },
  {
   "cell_type": "markdown",
   "metadata": {},
   "source": [
    "<a id=\"anchor32\"></a>\n",
    "# <a href=\"#anchor32\">exersice 32</a>\n",
    "\n",
    "32. Is the following expressions true? (★☆☆)"
   ]
  },
  {
   "cell_type": "code",
   "execution_count": 7,
   "metadata": {},
   "outputs": [
    {
     "name": "stderr",
     "output_type": "stream",
     "text": [
      "C:\\Users\\s-k85\\Anaconda3\\lib\\site-packages\\ipykernel_launcher.py:1: RuntimeWarning: invalid value encountered in sqrt\n",
      "  \"\"\"Entry point for launching an IPython kernel.\n"
     ]
    },
    {
     "data": {
      "text/plain": [
       "False"
      ]
     },
     "execution_count": 7,
     "metadata": {},
     "output_type": "execute_result"
    }
   ],
   "source": [
    "np.sqrt(-1) == np.emath.sqrt(-1)"
   ]
  },
  {
   "cell_type": "code",
   "execution_count": 10,
   "metadata": {},
   "outputs": [
    {
     "name": "stdout",
     "output_type": "stream",
     "text": [
      "nan\n",
      "1j\n"
     ]
    },
    {
     "name": "stderr",
     "output_type": "stream",
     "text": [
      "C:\\Users\\s-k85\\Anaconda3\\lib\\site-packages\\ipykernel_launcher.py:1: RuntimeWarning: invalid value encountered in sqrt\n",
      "  \"\"\"Entry point for launching an IPython kernel.\n"
     ]
    }
   ],
   "source": [
    "print(np.sqrt(-1))\n",
    "print(np.emath.sqrt(-1))"
   ]
  },
  {
   "cell_type": "markdown",
   "metadata": {},
   "source": [
    "<a id=\"anchor33\"></a>\n",
    "# <a href=\"#anchor33\">exersice 33</a>\n",
    "\n",
    "33. How to get the dates of yesterday, today and tomorrow? (★☆☆)"
   ]
  },
  {
   "cell_type": "code",
   "execution_count": 13,
   "metadata": {},
   "outputs": [
    {
     "data": {
      "text/plain": [
       "numpy.datetime64('2018-08-08')"
      ]
     },
     "execution_count": 13,
     "metadata": {},
     "output_type": "execute_result"
    }
   ],
   "source": [
    "yesterday = np.datetime64('today', 'D') - np.timedelta64(1, 'D')\n",
    "yesterday"
   ]
  },
  {
   "cell_type": "code",
   "execution_count": 14,
   "metadata": {},
   "outputs": [
    {
     "data": {
      "text/plain": [
       "numpy.datetime64('2018-08-09')"
      ]
     },
     "execution_count": 14,
     "metadata": {},
     "output_type": "execute_result"
    }
   ],
   "source": [
    "today = np.datetime64('today', 'D')\n",
    "today"
   ]
  },
  {
   "cell_type": "code",
   "execution_count": 15,
   "metadata": {},
   "outputs": [
    {
     "data": {
      "text/plain": [
       "numpy.datetime64('2018-08-10')"
      ]
     },
     "execution_count": 15,
     "metadata": {},
     "output_type": "execute_result"
    }
   ],
   "source": [
    "tomorrow = np.datetime64('today', 'D') + np.timedelta64(1, 'D')\n",
    "tomorrow"
   ]
  },
  {
   "cell_type": "markdown",
   "metadata": {},
   "source": [
    "<a id=\"anchor34\"></a>\n",
    "# <a href=\"#anchor34\">exersice 34</a>\n",
    "\n",
    "34. How to get all the dates corresponding to the month of July 2016? (★★☆)"
   ]
  },
  {
   "cell_type": "code",
   "execution_count": 16,
   "metadata": {},
   "outputs": [
    {
     "data": {
      "text/plain": [
       "array(['2016-07-01', '2016-07-02', '2016-07-03', '2016-07-04',\n",
       "       '2016-07-05', '2016-07-06', '2016-07-07', '2016-07-08',\n",
       "       '2016-07-09', '2016-07-10', '2016-07-11', '2016-07-12',\n",
       "       '2016-07-13', '2016-07-14', '2016-07-15', '2016-07-16',\n",
       "       '2016-07-17', '2016-07-18', '2016-07-19', '2016-07-20',\n",
       "       '2016-07-21', '2016-07-22', '2016-07-23', '2016-07-24',\n",
       "       '2016-07-25', '2016-07-26', '2016-07-27', '2016-07-28',\n",
       "       '2016-07-29', '2016-07-30', '2016-07-31'], dtype='datetime64[D]')"
      ]
     },
     "execution_count": 16,
     "metadata": {},
     "output_type": "execute_result"
    }
   ],
   "source": [
    "np.arange('2016-07', '2016-08', dtype='datetime64[D]')"
   ]
  },
  {
   "cell_type": "markdown",
   "metadata": {},
   "source": [
    "[公式ドキュメント](https://docs.scipy.org/doc/numpy/reference/arrays.datetime.html)"
   ]
  },
  {
   "cell_type": "markdown",
   "metadata": {},
   "source": [
    "<a id=\"anchor35\"></a>\n",
    "# <a href=\"#anchor35\">exersice 35</a>\n",
    "\n",
    "35. How to compute ((A+B)*(-A/2)) in place (without copy)? (★★☆)"
   ]
  },
  {
   "cell_type": "code",
   "execution_count": 17,
   "metadata": {},
   "outputs": [],
   "source": [
    "a = np.ones((3, 3))\n",
    "b = np.ones((3, 3))"
   ]
  },
  {
   "cell_type": "code",
   "execution_count": 24,
   "metadata": {},
   "outputs": [
    {
     "name": "stdout",
     "output_type": "stream",
     "text": [
      "[[ 2.  2.  2.]\n",
      " [ 2.  2.  2.]\n",
      " [ 2.  2.  2.]]\n"
     ]
    }
   ],
   "source": [
    "print(a + b)"
   ]
  },
  {
   "cell_type": "code",
   "execution_count": 23,
   "metadata": {},
   "outputs": [
    {
     "name": "stdout",
     "output_type": "stream",
     "text": [
      "[[-0.5 -0.5 -0.5]\n",
      " [-0.5 -0.5 -0.5]\n",
      " [-0.5 -0.5 -0.5]]\n"
     ]
    }
   ],
   "source": [
    "print(-a / 2)"
   ]
  },
  {
   "cell_type": "code",
   "execution_count": 22,
   "metadata": {},
   "outputs": [
    {
     "name": "stdout",
     "output_type": "stream",
     "text": [
      "[[-1. -1. -1.]\n",
      " [-1. -1. -1.]\n",
      " [-1. -1. -1.]]\n"
     ]
    }
   ],
   "source": [
    "c = (a + b) * (-a / 2)\n",
    "print(c)"
   ]
  },
  {
   "cell_type": "markdown",
   "metadata": {},
   "source": [
    "### 模範"
   ]
  },
  {
   "cell_type": "code",
   "execution_count": 25,
   "metadata": {},
   "outputs": [
    {
     "data": {
      "text/plain": [
       "array([-1.5, -1.5, -1.5])"
      ]
     },
     "execution_count": 25,
     "metadata": {},
     "output_type": "execute_result"
    }
   ],
   "source": [
    "A = np.ones(3)*1\n",
    "B = np.ones(3)*2\n",
    "C = np.ones(3)*3\n",
    "np.add(A,B,out=B)\n",
    "np.divide(A,2,out=A)\n",
    "np.negative(A,out=A)\n",
    "np.multiply(A,B,out=A)"
   ]
  },
  {
   "cell_type": "markdown",
   "metadata": {},
   "source": [
    "Numpyの四則演算関数(`np.add`, `np.divide`, `np.negative`, `np.multiply` など)は引数の `out=` に変数を解くことで出力をその変数に返すことができます。"
   ]
  },
  {
   "cell_type": "markdown",
   "metadata": {},
   "source": [
    "<a id=\"anchor36\"></a>\n",
    "# <a href=\"#anchor36\">exersice 36</a>\n",
    "\n",
    "36. Extract the integer part of a random array using 5 different methods (★★☆)"
   ]
  },
  {
   "cell_type": "code",
   "execution_count": 29,
   "metadata": {},
   "outputs": [
    {
     "name": "stdout",
     "output_type": "stream",
     "text": [
      "[[ 1.37865947  0.10896215 -1.8808759  -1.91074463 -0.41632885]\n",
      " [-0.96448531  4.94724541  0.98590099  1.20092437  0.03664011]\n",
      " [ 0.40811929 -2.37734129  0.60028029 -2.73937884  0.30584796]\n",
      " [-4.90284619 -1.9383866  -0.06989672  6.61909718  0.39220156]\n",
      " [-1.98028307  0.23834574 -2.39348892  0.52230242  2.93211953]]\n"
     ]
    }
   ],
   "source": [
    "a = np.random.randn(5, 5) * 2\n",
    "print(a)"
   ]
  },
  {
   "cell_type": "markdown",
   "metadata": {},
   "source": [
    "##### 解1"
   ]
  },
  {
   "cell_type": "code",
   "execution_count": 32,
   "metadata": {},
   "outputs": [
    {
     "name": "stdout",
     "output_type": "stream",
     "text": [
      "[[ 1  0 -1 -1  0]\n",
      " [ 0  4  0  1  0]\n",
      " [ 0 -2  0 -2  0]\n",
      " [-4 -1  0  6  0]\n",
      " [-1  0 -2  0  2]]\n"
     ]
    }
   ],
   "source": [
    "print(np.array(a, dtype=int))"
   ]
  },
  {
   "cell_type": "markdown",
   "metadata": {},
   "source": [
    "##### 解2"
   ]
  },
  {
   "cell_type": "code",
   "execution_count": 35,
   "metadata": {},
   "outputs": [
    {
     "name": "stdout",
     "output_type": "stream",
     "text": [
      "[[ 1  0 -1 -1  0]\n",
      " [ 0  4  0  1  0]\n",
      " [ 0 -2  0 -2  0]\n",
      " [-4 -1  0  6  0]\n",
      " [-1  0 -2  0  2]]\n"
     ]
    }
   ],
   "source": [
    "print(a.astype('int'))"
   ]
  },
  {
   "cell_type": "markdown",
   "metadata": {},
   "source": [
    "##### 別解1"
   ]
  },
  {
   "cell_type": "code",
   "execution_count": 40,
   "metadata": {},
   "outputs": [
    {
     "data": {
      "text/plain": [
       "array([[ 1.,  0., -1., -1., -0.],\n",
       "       [-0.,  4.,  0.,  1.,  0.],\n",
       "       [ 0., -2.,  0., -2.,  0.],\n",
       "       [-4., -1., -0.,  6.,  0.],\n",
       "       [-1.,  0., -2.,  0.,  2.]])"
      ]
     },
     "execution_count": 40,
     "metadata": {},
     "output_type": "execute_result"
    }
   ],
   "source": [
    "np.trunc(a)"
   ]
  },
  {
   "cell_type": "markdown",
   "metadata": {},
   "source": [
    "<a id=\"anchor37\"></a>\n",
    "# <a href=\"#anchor37\">exersice 37</a>\n",
    "\n",
    "37. Create a 5x5 matrix with row values ranging from 0 to 4 (★★☆)"
   ]
  },
  {
   "cell_type": "code",
   "execution_count": 47,
   "metadata": {},
   "outputs": [
    {
     "name": "stdout",
     "output_type": "stream",
     "text": [
      "[[0 1 2 3 4]\n",
      " [0 1 2 3 4]\n",
      " [0 1 2 3 4]\n",
      " [0 1 2 3 4]\n",
      " [0 1 2 3 4]]\n"
     ]
    }
   ],
   "source": [
    "a = np.array([0, 1, 2, 3, 4]*5).reshape((5, 5))\n",
    "print(a)"
   ]
  },
  {
   "cell_type": "markdown",
   "metadata": {},
   "source": [
    "#### 別解"
   ]
  },
  {
   "cell_type": "code",
   "execution_count": 48,
   "metadata": {},
   "outputs": [
    {
     "name": "stdout",
     "output_type": "stream",
     "text": [
      "[[ 0.  1.  2.  3.  4.]\n",
      " [ 0.  1.  2.  3.  4.]\n",
      " [ 0.  1.  2.  3.  4.]\n",
      " [ 0.  1.  2.  3.  4.]\n",
      " [ 0.  1.  2.  3.  4.]]\n"
     ]
    }
   ],
   "source": [
    "b = np.zeros((5,5))\n",
    "b += np.arange(5)\n",
    "print(b)"
   ]
  },
  {
   "cell_type": "markdown",
   "metadata": {},
   "source": [
    "これはNumpyの**ブロードキャスト**という演算を利用している。\n",
    "\n",
    "5行5列の行列に、行ベクトルを足せば、全行にこのベクトルが加算される。"
   ]
  },
  {
   "cell_type": "markdown",
   "metadata": {},
   "source": [
    "<a id=\"anchor38\"></a>\n",
    "# <a href=\"#anchor38\">exersice 38</a>\n",
    "\n",
    "38. Consider a generator function that generates 10 integers and use it to build an array (★☆☆)"
   ]
  },
  {
   "cell_type": "markdown",
   "metadata": {},
   "source": [
    "##### 模範"
   ]
  },
  {
   "cell_type": "markdown",
   "metadata": {},
   "source": [
    "generatorに関してはほぼ無知なので調べる必要があり。"
   ]
  },
  {
   "cell_type": "code",
   "execution_count": 75,
   "metadata": {},
   "outputs": [
    {
     "name": "stdout",
     "output_type": "stream",
     "text": [
      "[ 0.  1.  2.  3.  4.  5.  6.  7.  8.  9.]\n"
     ]
    }
   ],
   "source": [
    "def generate():\n",
    "    for x in range(10):\n",
    "        yield x\n",
    "b = np.fromiter(generate(),dtype=float,count=-1)\n",
    "print(b)"
   ]
  },
  {
   "cell_type": "markdown",
   "metadata": {},
   "source": [
    "- `fromiter(iterable, dtype, count=-1)`\n",
    "\n",
    "引数に**イテレータ**をとり、`dtype`に従って値をとり、配列を返す"
   ]
  },
  {
   "cell_type": "markdown",
   "metadata": {},
   "source": [
    "<a id=\"anchor39\"></a>\n",
    "# <a href=\"#anchor39\">exersice 39</a>\n",
    "\n",
    "39. Create a vector of size 10 with values ranging from 0 to 1, both excluded (★★☆)"
   ]
  },
  {
   "cell_type": "code",
   "execution_count": 61,
   "metadata": {},
   "outputs": [
    {
     "name": "stdout",
     "output_type": "stream",
     "text": [
      "[ 0.30804912  0.23603981  0.9579054   0.75118764  0.7203701   0.09125374\n",
      "  0.90367871  0.98092891  0.02830191  0.35878824]\n"
     ]
    }
   ],
   "source": [
    "a = np.random.rand(10)\n",
    "print(a)"
   ]
  },
  {
   "cell_type": "markdown",
   "metadata": {},
   "source": [
    "ただ単に0～1の乱数を生成した場合は、0や1を含んでいる場合が存在する。"
   ]
  },
  {
   "cell_type": "code",
   "execution_count": 69,
   "metadata": {},
   "outputs": [
    {
     "name": "stdout",
     "output_type": "stream",
     "text": [
      "3.31055445735e-06 0.999977951781\n"
     ]
    }
   ],
   "source": [
    "np.random.seed(0)\n",
    "b = np.random.rand(100000)\n",
    "print(b.min(), b.max())"
   ]
  },
  {
   "cell_type": "markdown",
   "metadata": {},
   "source": [
    "##### 別解1"
   ]
  },
  {
   "cell_type": "code",
   "execution_count": 74,
   "metadata": {},
   "outputs": [
    {
     "name": "stdout",
     "output_type": "stream",
     "text": [
      "[ 0.09090909  0.18181818  0.27272727  0.36363636  0.45454545  0.54545455\n",
      "  0.63636364  0.72727273  0.81818182  0.90909091]\n"
     ]
    }
   ],
   "source": [
    "c = np.linspace(start=0,stop=1,num=11,endpoint=False)[1:]\n",
    "print(c)"
   ]
  },
  {
   "cell_type": "markdown",
   "metadata": {},
   "source": [
    "この方法は、`start`から`stop`までを`num`等分を行い、その際に`stop`の点を含めないように`endpoint`で指定している。\n",
    "\n",
    "このままでは、0は出力されてしまうので、インデックスが2番目の場所から抽出している。"
   ]
  },
  {
   "cell_type": "markdown",
   "metadata": {},
   "source": [
    "<a id=\"anchor40\"></a>\n",
    "# <a href=\"#anchor40\">exersice 40</a>\n",
    "\n",
    "40. Create a random vector of size 10 and sort it (★★☆)"
   ]
  },
  {
   "cell_type": "code",
   "execution_count": 56,
   "metadata": {},
   "outputs": [
    {
     "name": "stdout",
     "output_type": "stream",
     "text": [
      "[9 3 0 1 4 5 3 7 8 8 3 1 2 9 3 0 4 0 0 2]\n"
     ]
    }
   ],
   "source": [
    "a = np.random.randint(10, size=20)\n",
    "print(a)"
   ]
  },
  {
   "cell_type": "markdown",
   "metadata": {},
   "source": [
    "##### 解1"
   ]
  },
  {
   "cell_type": "code",
   "execution_count": 57,
   "metadata": {},
   "outputs": [
    {
     "data": {
      "text/plain": [
       "array([0, 0, 0, 0, 1, 1, 2, 2, 3, 3, 3, 3, 4, 4, 5, 7, 8, 8, 9, 9])"
      ]
     },
     "execution_count": 57,
     "metadata": {},
     "output_type": "execute_result"
    }
   ],
   "source": [
    "np.sort(a)"
   ]
  },
  {
   "cell_type": "markdown",
   "metadata": {},
   "source": [
    "##### 解2"
   ]
  },
  {
   "cell_type": "code",
   "execution_count": 60,
   "metadata": {},
   "outputs": [
    {
     "name": "stdout",
     "output_type": "stream",
     "text": [
      "[0 0 0 0 1 1 2 2 3 3 3 3 4 4 5 7 8 8 9 9]\n"
     ]
    }
   ],
   "source": [
    "a.sort()\n",
    "print(a)"
   ]
  },
  {
   "cell_type": "markdown",
   "metadata": {},
   "source": [
    "この方法はもともとの配列を変えてしまうので使用するときは注意が必要"
   ]
  },
  {
   "cell_type": "code",
   "execution_count": null,
   "metadata": {},
   "outputs": [],
   "source": []
  }
 ],
 "metadata": {
  "kernelspec": {
   "display_name": "Python 3",
   "language": "python",
   "name": "python3"
  },
  "language_info": {
   "codemirror_mode": {
    "name": "ipython",
    "version": 3
   },
   "file_extension": ".py",
   "mimetype": "text/x-python",
   "name": "python",
   "nbconvert_exporter": "python",
   "pygments_lexer": "ipython3",
   "version": "3.6.5"
  }
 },
 "nbformat": 4,
 "nbformat_minor": 2
}
